{
 "cells": [
  {
   "cell_type": "code",
   "execution_count": 1,
   "id": "502609cd-faf7-4c7c-b1fc-19c08b845de2",
   "metadata": {},
   "outputs": [
    {
     "name": "stdout",
     "output_type": "stream",
     "text": [
      "1.Entomology is the science that studies\n",
      "a)Behavior of human beings\n",
      "b)Insects\n",
      "c)The origin and history of technical and scientific terms\n",
      "d)The formation of rocks\n"
     ]
    },
    {
     "name": "stdin",
     "output_type": "stream",
     "text": [
      "Enter your answer (a,b,c or d): b\n"
     ]
    },
    {
     "name": "stdout",
     "output_type": "stream",
     "text": [
      "Correct!\n",
      "\n",
      "2.Galileo was an Italian astronomer who\n",
      "a)developed the telescope\n",
      "b)discovered four satellites of Jupiter\n",
      "c)discovered that the movement of pendulum produces a regular time measurement\n",
      "d)All of the above\n"
     ]
    },
    {
     "name": "stdin",
     "output_type": "stream",
     "text": [
      "Enter your answer (a,b,c or d): a\n"
     ]
    },
    {
     "name": "stdout",
     "output_type": "stream",
     "text": [
      "Wrong! Option d is correct\n",
      "\n",
      "3.Friction can be reduced by changing from\n",
      "a)sliding to rolling\n",
      "b)rolling to sliding\n",
      "c)potential energy to kinetic energy\n",
      "d)dynamic to static\n"
     ]
    },
    {
     "name": "stdin",
     "output_type": "stream",
     "text": [
      "Enter your answer (a,b,c or d): a\n"
     ]
    },
    {
     "name": "stdout",
     "output_type": "stream",
     "text": [
      "Correct!\n",
      "\n",
      "4.The ozone layer restricts\n",
      "a)Visible light\n",
      "b)Infrared radiation\n",
      "c)X-rays and gamma rays\n",
      "d)Ultraviolet radiation\n"
     ]
    },
    {
     "name": "stdin",
     "output_type": "stream",
     "text": [
      "Enter your answer (a,b,c or d): d\n"
     ]
    },
    {
     "name": "stdout",
     "output_type": "stream",
     "text": [
      "Correct!\n",
      "\n",
      "You got 3 out of 4 questions correct.\n"
     ]
    }
   ],
   "source": [
    "#Quiz Game\n",
    "questions=[\n",
    "{\n",
    "\"Qn\":\"1.Entomology is the science that studies\",\n",
    "\"options\":['a)Behavior of human beings','b)Insects','c)The origin and history of technical and scientific terms','d)The formation of rocks'],\n",
    "\"correct_ans\":\"b\"\n",
    "},\n",
    "{\n",
    "\"Qn\":\"2.Galileo was an Italian astronomer who\",\n",
    "\"options\":['a)developed the telescope','b)discovered four satellites of Jupiter','c)discovered that the movement of pendulum produces a regular time measurement','d)All of the above'],\n",
    "\"correct_ans\":\"d\"\n",
    "},\n",
    "{\n",
    "\"Qn\":\"3.Friction can be reduced by changing from\",\n",
    "\"options\":['a)sliding to rolling','b)rolling to sliding','c)potential energy to kinetic energy','d)dynamic to static'],\n",
    "\"correct_ans\":\"a\"\n",
    "},\n",
    "{\n",
    "\"Qn\":\"4.The ozone layer restricts\",\n",
    "\"options\":['a)Visible light','b)Infrared radiation','c)X-rays and gamma rays','d)Ultraviolet radiation'],\n",
    "\"correct_ans\":\"d\"\n",
    "}\n",
    "] #questions with its choices and correct answer are given within a list\n",
    "\n",
    "def Quiz_game(given_questions):\n",
    "    score=0 #initially the score is 0\n",
    "    for qn in given_questions: #qn is a dictionary\n",
    "        print(qn['Qn']) #Qn is the key of the qn dictionary\n",
    "        for op in qn[\"options\"]:\n",
    "            print(op)\n",
    "        answer=input(\"Enter your answer (a,b,c or d):\").lower()\n",
    "        if answer==qn[\"correct_ans\"]:\n",
    "            print(\"Correct!\\n\")\n",
    "            score+=1 # Updates the score\n",
    "        else:\n",
    "            print(f\"Wrong! Option {qn['correct_ans']} is correct\\n\")\n",
    "    print(f'You got {score} out of {len(questions)} questions correct.')\n",
    "Quiz_game(questions)# passing list as an argument\n",
    "\n",
    "            \n",
    "        "
   ]
  },
  {
   "cell_type": "code",
   "execution_count": null,
   "id": "a98f0ea8-2b02-4b08-b873-3e24e96477c0",
   "metadata": {},
   "outputs": [],
   "source": []
  }
 ],
 "metadata": {
  "kernelspec": {
   "display_name": "Python 3 (ipykernel)",
   "language": "python",
   "name": "python3"
  },
  "language_info": {
   "codemirror_mode": {
    "name": "ipython",
    "version": 3
   },
   "file_extension": ".py",
   "mimetype": "text/x-python",
   "name": "python",
   "nbconvert_exporter": "python",
   "pygments_lexer": "ipython3",
   "version": "3.12.7"
  }
 },
 "nbformat": 4,
 "nbformat_minor": 5
}
